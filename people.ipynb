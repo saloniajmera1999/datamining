{
 "cells": [
  {
   "cell_type": "code",
   "execution_count": 62,
   "metadata": {},
   "outputs": [],
   "source": [
    "import pandas as pd\n",
    "import numpy as np\n",
    "import matplotlib.pyplot as plt\n",
    "\n",
    "data=pd.read_csv(\"people.csv\")\n",
    "data[\"follow\"]=\"\"\n",
    "n=len(data)"
   ]
  },
  {
   "cell_type": "code",
   "execution_count": 63,
   "metadata": {},
   "outputs": [],
   "source": [
    "def ruleset(data):\n",
    "    for i in range(n):\n",
    "        if(data.iloc[i][\"age\"]>=0 and data.iloc[i][\"age\"]<=150):\n",
    "            if(data.iloc[i][\"age\"]<18 and data.iloc[i][\"agegroup\"]==\"child\"):\n",
    "                data.at[i,\"follow\"]=True\n",
    "            elif(data.iloc[i][\"age\"]>=18 and data.iloc[i][\"age\"]<=65 and data.iloc[i][\"agegroup\"]==\"adult\"):\n",
    "                data.at[i,\"follow\"]=True\n",
    "            elif(data.iloc[i][\"age\"]>65 and data.iloc[i][\"agegroup\"]==\"elderly\"):\n",
    "                data.at[i,\"follow\"]=True\n",
    "            else:\n",
    "                data.at[i,\"follow\"]=False\n",
    "        else:\n",
    "            data.at[i,\"follow\"]=False\n",
    "        if(data.iloc[i][\"age\"]>data.iloc[i][\"yearsmarried\"] and data.at[i,\"follow\"]):\n",
    "            data.at[i,\"follow\"]=True\n",
    "        else :\n",
    "            data.at[i,\"follow\"]=False\n",
    "        if((data.iloc[i][\"status\"] in ['married','single','widowed']) and data.at[i,\"follow\"]):\n",
    "            data.at[i,\"follow\"]=True\n",
    "        else :\n",
    "            data.at[i,\"follow\"]=False\n",
    "    return"
   ]
  },
  {
   "cell_type": "code",
   "execution_count": 64,
   "metadata": {},
   "outputs": [
    {
     "data": {
      "text/html": [
       "<div>\n",
       "<style scoped>\n",
       "    .dataframe tbody tr th:only-of-type {\n",
       "        vertical-align: middle;\n",
       "    }\n",
       "\n",
       "    .dataframe tbody tr th {\n",
       "        vertical-align: top;\n",
       "    }\n",
       "\n",
       "    .dataframe thead th {\n",
       "        text-align: right;\n",
       "    }\n",
       "</style>\n",
       "<table border=\"1\" class=\"dataframe\">\n",
       "  <thead>\n",
       "    <tr style=\"text-align: right;\">\n",
       "      <th></th>\n",
       "      <th>age</th>\n",
       "      <th>agegroup</th>\n",
       "      <th>height</th>\n",
       "      <th>status</th>\n",
       "      <th>yearsmarried</th>\n",
       "      <th>follow</th>\n",
       "    </tr>\n",
       "  </thead>\n",
       "  <tbody>\n",
       "    <tr>\n",
       "      <td>0</td>\n",
       "      <td>21</td>\n",
       "      <td>adult</td>\n",
       "      <td>6.0</td>\n",
       "      <td>single</td>\n",
       "      <td>-1</td>\n",
       "      <td>True</td>\n",
       "    </tr>\n",
       "    <tr>\n",
       "      <td>1</td>\n",
       "      <td>2</td>\n",
       "      <td>child</td>\n",
       "      <td>3.0</td>\n",
       "      <td>married</td>\n",
       "      <td>0</td>\n",
       "      <td>True</td>\n",
       "    </tr>\n",
       "    <tr>\n",
       "      <td>2</td>\n",
       "      <td>18</td>\n",
       "      <td>adult</td>\n",
       "      <td>5.7</td>\n",
       "      <td>married</td>\n",
       "      <td>20</td>\n",
       "      <td>False</td>\n",
       "    </tr>\n",
       "    <tr>\n",
       "      <td>3</td>\n",
       "      <td>221</td>\n",
       "      <td>elderly</td>\n",
       "      <td>5.0</td>\n",
       "      <td>widowed</td>\n",
       "      <td>2</td>\n",
       "      <td>False</td>\n",
       "    </tr>\n",
       "    <tr>\n",
       "      <td>4</td>\n",
       "      <td>34</td>\n",
       "      <td>child</td>\n",
       "      <td>-7.0</td>\n",
       "      <td>married</td>\n",
       "      <td>3</td>\n",
       "      <td>False</td>\n",
       "    </tr>\n",
       "  </tbody>\n",
       "</table>\n",
       "</div>"
      ],
      "text/plain": [
       "   age agegroup  height   status  yearsmarried follow\n",
       "0   21    adult     6.0   single            -1   True\n",
       "1    2    child     3.0  married             0   True\n",
       "2   18    adult     5.7  married            20  False\n",
       "3  221  elderly     5.0  widowed             2  False\n",
       "4   34    child    -7.0  married             3  False"
      ]
     },
     "execution_count": 64,
     "metadata": {},
     "output_type": "execute_result"
    }
   ],
   "source": [
    "ruleset(data)\n",
    "data"
   ]
  },
  {
   "cell_type": "code",
   "execution_count": 73,
   "metadata": {},
   "outputs": [
    {
     "name": "stdout",
     "output_type": "stream",
     "text": [
      "\n",
      "\n",
      "Total number of data:  5\n",
      "\n",
      "Ruleset followed by:  2\n",
      "Ruleset NOT followed by:  3\n"
     ]
    },
    {
     "data": {
      "image/png": "[encoded data removed]",
      "text/plain": [
       "<Figure size 432x288 with 1 Axes>"
      ]
     },
     "metadata": {
      "needs_background": "light"
     },
     "output_type": "display_data"
    }
   ],
   "source": [
    "agg=data.pivot_table(index=['follow'], aggfunc='size')\n",
    "\n",
    "print(\"\\n\\nTotal number of data: \",n)\n",
    "print(\"\\nRuleset followed by: \",agg[1])\n",
    "print(\"Ruleset NOT followed by: \",agg[0])\n",
    "\n",
    "plt.bar(n, agg, align='center', alpha=0.5)\n",
    "plt.ylabel('Followed by')\n",
    "plt.title('Ruleset')\n",
    "plt.show()"
   ]
  },
  {
   "cell_type": "code",
   "execution_count": null,
   "metadata": {},
   "outputs": [],
   "source": []
  }
 ],
 "metadata": {
  "kernelspec": {
   "display_name": "Python 3",
   "language": "python",
   "name": "python3"
  },
  "language_info": {
   "codemirror_mode": {
    "name": "ipython",
    "version": 3
   },
   "file_extension": ".py",
   "mimetype": "text/x-python",
   "name": "python",
   "nbconvert_exporter": "python",
   "pygments_lexer": "ipython3",
   "version": "3.7.4"
  }
 },
 "nbformat": 4,
 "nbformat_minor": 2
}
