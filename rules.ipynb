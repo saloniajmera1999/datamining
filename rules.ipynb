{
 "cells": [
  {
   "cell_type": "code",
   "execution_count": 1,
   "metadata": {},
   "outputs": [],
   "source": [
    "def check_species(data):\n",
    "    return data['Species'].isin(['setosa','versicolor','virginica'])\n",
    "\n",
    "def check_positive(data):\n",
    "    return (data.iloc[:,:4]>0)\n",
    "\n",
    "def check_petal(data):\n",
    "    return (data['Petal.Length']>=2*data['Petal.Width'])\n",
    "\n",
    "def check_sepal(data):\n",
    "    return (data['Sepal.Length']<=30 )\n",
    "\n",
    "def compare(data):\n",
    "    return (data['Sepal.Length']>data['Petal.Length'])"
   ]
  },
  {
   "cell_type": "code",
   "execution_count": null,
   "metadata": {},
   "outputs": [],
   "source": []
  }
 ],
 "metadata": {
  "kernelspec": {
   "display_name": "Python 3",
   "language": "python",
   "name": "python3"
  },
  "language_info": {
   "codemirror_mode": {
    "name": "ipython",
    "version": 3
   },
   "file_extension": ".py",
   "mimetype": "text/x-python",
   "name": "python",
   "nbconvert_exporter": "python",
   "pygments_lexer": "ipython3",
   "version": "3.7.4"
  }
 },
 "nbformat": 4,
 "nbformat_minor": 2
}
