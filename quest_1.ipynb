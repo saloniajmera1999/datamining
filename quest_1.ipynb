{
 "cells": [
  {
   "cell_type": "code",
   "execution_count": 9,
   "metadata": {},
   "outputs": [
    {
     "name": "stdout",
     "output_type": "stream",
     "text": [
      "   age agegroup  height   status  yearsmarried\n",
      "0   21    adult     6.0   single            -1\n",
      "1    2    child     3.0  married             0\n",
      "2   18    adult     5.7  married            20\n",
      "3  221  elderly     5.0  widowed             2\n",
      "4   34    child    -7.0  married             3\n",
      "   check_age  compare_age_year_married  check_status  check_age_agegroup\n",
      "0       True                      True          True                True\n",
      "1       True                      True          True                True\n",
      "2       True                     False          True                True\n",
      "3      False                      True          True                True\n",
      "4       True                      True          True               False\n",
      "\n",
      "Number of times each rule is satisfied: \n",
      "[4 4 5 4]\n"
     ]
    },
    {
     "data": {
      "image/png": "[encoded data removed]",
      "text/plain": [
       "<Figure size 432x288 with 1 Axes>"
      ]
     },
     "metadata": {
      "needs_background": "light"
     },
     "output_type": "display_data"
    },
    {
     "data": {
      "image/png": "[encoded data removed]",
      "text/plain": [
       "<Figure size 648x504 with 1 Axes>"
      ]
     },
     "metadata": {
      "needs_background": "light"
     },
     "output_type": "display_data"
    }
   ],
   "source": [
    "%matplotlib inline\n",
    "import matplotlib.pyplot as plt\n",
    "import numpy as np\n",
    "import pandas as pd\n",
    "\n",
    "data = pd.read_csv('people.csv')\n",
    "print(data)\n",
    "\n",
    "def check_age(data):\n",
    "    return data['age'].isin(range(0,151))\n",
    "check_age(data)\n",
    "\n",
    "def compare_age_year_married(data):\n",
    "    return data['age'] > data['yearsmarried']\n",
    "compare_age_year_married(data)\n",
    "\n",
    "def check_status(data):\n",
    "    return data['status'].isin(['single', 'married', 'widowed'])\n",
    "check_status(data)\n",
    "\n",
    "def check_age_agegroup(data):\n",
    "    return ( (data['age'] < 18) & (data['agegroup'] == 'child') ) | ( (data['age'].isin(range(18,66))) & (data['agegroup'] == 'adult') ) | ( (data['age'] > 65) & (data['agegroup'] == 'elderly'))\n",
    "check_age_agegroup(data)\n",
    "\n",
    "E={\"check_age\":check_age(data), \"compare_age_year_married\":compare_age_year_married(data), \"check_status\":check_status(data), \"check_age_agegroup\":check_age_agegroup(data)}\n",
    "temp=pd.DataFrame(E)\n",
    "print(temp)\n",
    "xlabels=[\"Rule1\",\"Rule2\",\"Rule3\",\"Rule4\"]\n",
    "a=np.array([len(temp[i].loc[temp[i]==True]) for i in temp.columns[:]])\n",
    "print(\"\\nNumber of times each rule is satisfied: \")\n",
    "print(a)\n",
    "\n",
    "\n",
    "ylabels=a\n",
    "y_positions = range(len(xlabels))\n",
    "\n",
    "# Bar graph\n",
    "plt.bar(y_positions, ylabels)\n",
    "plt.xticks(y_positions, xlabels)\n",
    "plt.show()\n",
    "\n",
    "y=np.zeros(len(data['age']))\n",
    "y=y+150\n",
    "\n",
    "plt.figure(figsize=[9.0,7.0])\n",
    "plt.plot([1,2,3,4,5],data['age'].values,'ro')\n",
    "plt.plot([1,2,3,4,5],data['yearsmarried'].values,'bo')\n",
    "plt.plot([1,2,3,4,5],y,'b-')\n",
    "plt.xticks([1,2,3,4,5])\n",
    "plt.xlabel(\"Indices\")\n",
    "plt.ylabel(\"Age\")\n",
    "plt.show()"
   ]
  },
  {
   "cell_type": "code",
   "execution_count": null,
   "metadata": {},
   "outputs": [],
   "source": []
  }
 ],
 "metadata": {
  "kernelspec": {
   "display_name": "Python 3",
   "language": "python",
   "name": "python3"
  },
  "language_info": {
   "codemirror_mode": {
    "name": "ipython",
    "version": 3
   },
   "file_extension": ".py",
   "mimetype": "text/x-python",
   "name": "python",
   "nbconvert_exporter": "python",
   "pygments_lexer": "ipython3",
   "version": "3.7.4"
  }
 },
 "nbformat": 4,
 "nbformat_minor": 2
}
