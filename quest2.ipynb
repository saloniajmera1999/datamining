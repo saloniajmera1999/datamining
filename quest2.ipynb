{
 "cells": [
  {
   "cell_type": "code",
   "execution_count": 13,
   "metadata": {},
   "outputs": [
    {
     "name": "stdout",
     "output_type": "stream",
     "text": [
      "     Sepal.Length  Sepal.Width  Petal.Length  Petal.Width     Species\n",
      "0             6.4          3.2           4.5          1.5  versicolor\n",
      "1             6.3          3.3           6.0          2.5   virginica\n",
      "2             6.2          NaN           5.4          2.3   virginica\n",
      "3             5.0          3.4           1.6          0.4      setosa\n",
      "4             5.7          2.6           3.5          1.0  versicolor\n",
      "..            ...          ...           ...          ...         ...\n",
      "145           6.7          3.1           5.6          2.4   virginica\n",
      "146           5.6          3.0           4.5          1.5  versicolor\n",
      "147           5.2          3.5           1.5          0.2      setosa\n",
      "148           6.4          3.1           NaN          1.8   virginica\n",
      "149           5.8          2.6           4.0          NaN  versicolor\n",
      "\n",
      "[150 rows x 5 columns]\n",
      "\n",
      "\n",
      "Nmber of observations:  150\n",
      "Number of observations that are complete:  94\n",
      "Percentage of observations that are complete:  62.66666666666667\n",
      "     species_check  positive  petal_check  sepal_check  sepal_petal_check\n",
      "0             True      True         True         True               True\n",
      "1             True      True         True         True               True\n",
      "2             True     False         True         True               True\n",
      "3             True      True         True         True               True\n",
      "4             True      True         True         True               True\n",
      "..             ...       ...          ...          ...                ...\n",
      "145           True      True         True         True               True\n",
      "146           True      True         True         True               True\n",
      "147           True      True         True         True               True\n",
      "148           True     False        False         True              False\n",
      "149           True     False        False         True               True\n",
      "\n",
      "[150 rows x 5 columns]\n",
      "\n",
      "Number of times each rule is satisfied (Rule1-Rule5): \n",
      "[150  92 116 138 120]\n"
     ]
    },
    {
     "data": {
      "image/png": "[encoded data removed]",
      "text/plain": [
       "<Figure size 432x288 with 1 Axes>"
      ]
     },
     "metadata": {
      "needs_background": "light"
     },
     "output_type": "display_data"
    },
    {
     "data": {
      "text/plain": [
       "<matplotlib.axes._subplots.AxesSubplot at 0x1ebc54cc108>"
      ]
     },
     "execution_count": 13,
     "metadata": {},
     "output_type": "execute_result"
    },
    {
     "data": {
      "image/png": "[encoded data removed]",
      "text/plain": [
       "<Figure size 432x288 with 1 Axes>"
      ]
     },
     "metadata": {
      "needs_background": "light"
     },
     "output_type": "display_data"
    }
   ],
   "source": [
    "import pandas as pd\n",
    "import numpy as np\n",
    "import matplotlib.pyplot as plt\n",
    "\n",
    "df=pd.read_csv(\"dirty_iris.csv\")\n",
    "#print(df)\n",
    "\n",
    "f=df._get_numeric_data() \n",
    "f[f<0]=np.nan\n",
    "f[f==np.inf]=np.nan\n",
    "print(df)\n",
    "\n",
    "df.dropna()\n",
    "no_complete=len(df.dropna())\n",
    "\n",
    "print(\"\\n\\nNmber of observations: \",len(df))\n",
    "print(\"Number of observations that are complete: \",no_complete)\n",
    "\n",
    "no_percent=(no_complete/len(df))*100\n",
    "print(\"Percentage of observations that are complete: \",no_percent)\n",
    "\n",
    "def species_check(f):\n",
    "    species=set([\"setosa\",\"versicolor\",\"virginica\"])\n",
    "    func=lambda r:r in species\n",
    "    return df[\"Species\"].apply(func)\n",
    "species_check(f)\n",
    "\n",
    "def positive(df):\n",
    "    func=lambda r:r>0\n",
    "    func1= lambda x: x[0] and x[1] and x[2] and x[3]\n",
    "    return df.iloc[:,:-1].apply(func).apply(func1,axis=1)\n",
    "positive(df)     \n",
    "\n",
    "df.columns[:-1]\n",
    "\n",
    "def petal_check(df):\n",
    "    func = lambda x : x[0] >= 2 * x[1]\n",
    "    return df[[\"Petal.Length\",\"Petal.Width\"]].apply(func,axis=1)\n",
    "petal_check(df)\n",
    "\n",
    "def sepal_check(df) :\n",
    "    func = lambda x : x <=30\n",
    "    return df[\"Sepal.Length\"].apply(func)\n",
    "sepal_check(df) \n",
    "\n",
    "def sepal_petal_check(df) :\n",
    "    func = lambda x : x[0] > x[1]\n",
    "    return df[[\"Sepal.Length\",\"Petal.Length\"]].apply(func,axis=1)\n",
    "sepal_petal_check(df)\n",
    "\n",
    "E={\"species_check\":species_check(df), \"positive\":positive(df), \"petal_check\":petal_check(df), \"sepal_check\":sepal_check(df), \"sepal_petal_check\":sepal_petal_check(df)}\n",
    "temp=pd.DataFrame(E)\n",
    "print(temp)\n",
    "\n",
    "len(temp[\"petal_check\"].loc[temp[\"petal_check\"]==False])\n",
    "\n",
    "xlabels=[\"Rule1\",\"Rule2\",\"Rule3\",\"Rule4\",\"Rule5\"]\n",
    "a=np.array([len(temp[i].loc[temp[i]==True]) for i in temp.columns[:]])\n",
    "print(\"\\nNumber of times each rule is satisfied (Rule1-Rule5): \")\n",
    "print(a)\n",
    "\n",
    "ylabels=a\n",
    "y_positions = range(len(xlabels))\n",
    "\n",
    "# Bar graph\n",
    "plt.bar(y_positions, ylabels)\n",
    "plt.xticks(y_positions, xlabels)\n",
    "plt.show()\n",
    "\n",
    "df.boxplot()"
   ]
  },
  {
   "cell_type": "code",
   "execution_count": null,
   "metadata": {},
   "outputs": [],
   "source": []
  }
 ],
 "metadata": {
  "kernelspec": {
   "display_name": "Python 3",
   "language": "python",
   "name": "python3"
  },
  "language_info": {
   "codemirror_mode": {
    "name": "ipython",
    "version": 3
   },
   "file_extension": ".py",
   "mimetype": "text/x-python",
   "name": "python",
   "nbconvert_exporter": "python",
   "pygments_lexer": "ipython3",
   "version": "3.7.4"
  }
 },
 "nbformat": 4,
 "nbformat_minor": 2
}
